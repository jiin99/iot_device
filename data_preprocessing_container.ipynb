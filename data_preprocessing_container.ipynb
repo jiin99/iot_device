{
 "cells": [
  {
   "cell_type": "code",
   "execution_count": 54,
   "id": "widespread-arnold",
   "metadata": {},
   "outputs": [],
   "source": [
    "import pandas as pd\n",
    "import numpy as np\n",
    "from matplotlib import pyplot as plt"
   ]
  },
  {
   "cell_type": "code",
   "execution_count": 3,
   "id": "possible-declaration",
   "metadata": {},
   "outputs": [],
   "source": [
    "_data = pd.read_csv('./data/my_table_0927.csv')"
   ]
  },
  {
   "cell_type": "code",
   "execution_count": 4,
   "id": "unsigned-variance",
   "metadata": {},
   "outputs": [
    {
     "data": {
      "text/plain": [
       "REG_SEQ          int64\n",
       "GATEWAY_ID       int64\n",
       "REPEATER_ID      int64\n",
       "DEVICE_ID        int64\n",
       "TYPE           float64\n",
       "TEMP           float64\n",
       "HUMIDITY       float64\n",
       "SMOKE_DEN      float64\n",
       "MIT            float64\n",
       "DEN            float64\n",
       "SMELL_DEN      float64\n",
       "BATT_CAP       float64\n",
       "STATUS         float64\n",
       "REG_DTIME       object\n",
       "SN             float64\n",
       "BUTANE         float64\n",
       "CURRENT        float64\n",
       "FLAME          float64\n",
       "DEVICE_TYPE    float64\n",
       "dtype: object"
      ]
     },
     "execution_count": 4,
     "metadata": {},
     "output_type": "execute_result"
    }
   ],
   "source": [
    "_data.dtypes"
   ]
  },
  {
   "cell_type": "code",
   "execution_count": 5,
   "id": "charged-flash",
   "metadata": {},
   "outputs": [],
   "source": [
    "#datetime으로 type 변경\n",
    "_data.index = pd.to_datetime(_data['REG_DTIME'])"
   ]
  },
  {
   "cell_type": "markdown",
   "id": "cooperative-deployment",
   "metadata": {},
   "source": [
    "### 컨테이너 : 4월 4일부터 6월 5일 데이터 사용"
   ]
  },
  {
   "cell_type": "code",
   "execution_count": 6,
   "id": "downtown-parking",
   "metadata": {},
   "outputs": [],
   "source": [
    "_data_raw = _data.truncate(before='2021-04-04 00:00:00')\n",
    "data_raw = _data_raw.truncate(after='2021-06-06 00:00:00')"
   ]
  },
  {
   "cell_type": "code",
   "execution_count": 8,
   "id": "mexican-clause",
   "metadata": {},
   "outputs": [],
   "source": [
    "is_device_4 = data_raw['DEVICE_ID'] == 4\n",
    "is_device_5 = data_raw['DEVICE_ID'] == 5\n",
    "data4 = data_raw[is_device_4]\n",
    "data5 = data_raw[is_device_5]"
   ]
  },
  {
   "cell_type": "markdown",
   "id": "bottom-nutrition",
   "metadata": {},
   "source": [
    "### 필요한 변수만 선택"
   ]
  },
  {
   "cell_type": "code",
   "execution_count": 9,
   "id": "geological-cincinnati",
   "metadata": {},
   "outputs": [],
   "source": [
    "data4 = data4[['TEMP','HUMIDITY','SMOKE_DEN','REG_DTIME']]\n",
    "data5 = data5[['TEMP','HUMIDITY','SMELL_DEN','DEN','REG_DTIME']]"
   ]
  },
  {
   "cell_type": "markdown",
   "id": "executive-angle",
   "metadata": {},
   "source": [
    "### 중복값 확인"
   ]
  },
  {
   "cell_type": "code",
   "execution_count": 10,
   "id": "nutritional-swedish",
   "metadata": {},
   "outputs": [],
   "source": [
    "# device 4\n",
    "dup_idx_4 = np.ravel(np.where(data4.duplicated(['REG_DTIME']) == True))\n",
    "# device 5\n",
    "dup_idx_5 = np.ravel(np.where(data5.duplicated(['REG_DTIME']) == True))"
   ]
  },
  {
   "cell_type": "markdown",
   "id": "graphic-beast",
   "metadata": {},
   "source": [
    "### 중복은 평균값으로 대체"
   ]
  },
  {
   "cell_type": "code",
   "execution_count": 11,
   "id": "first-guard",
   "metadata": {},
   "outputs": [],
   "source": [
    "after_data4 = data4.copy()\n",
    "for i in dup_idx_4:\n",
    "    dup_date = data4['REG_DTIME'].iloc[i]\n",
    "    dup_array = np.ravel(np.where(data4['REG_DTIME'] == dup_date))\n",
    "    for n,j in enumerate(dup_array):\n",
    "        if n== 0:\n",
    "            init_idx = j\n",
    "            left = data4.iloc[j][:3].copy()\n",
    "        else : \n",
    "            left += data4.iloc[j][:3].copy()\n",
    "    after_data4.iloc[init_idx,:3] = left/len(dup_array)"
   ]
  },
  {
   "cell_type": "code",
   "execution_count": 12,
   "id": "juvenile-hungarian",
   "metadata": {},
   "outputs": [],
   "source": [
    "after_data5 = data5.copy()\n",
    "for i in dup_idx_5:\n",
    "    dup_date = data5['REG_DTIME'].iloc[i]\n",
    "    dup_array = np.ravel(np.where(data5['REG_DTIME'] == dup_date))\n",
    "    for n,j in enumerate(dup_array):\n",
    "        if n== 0:\n",
    "            init_idx = j\n",
    "            left = data5.iloc[j][:4].copy()\n",
    "        else : \n",
    "            left += data5.iloc[j][:4].copy()\n",
    "    after_data5.iloc[init_idx,:4] = left/len(dup_array)"
   ]
  },
  {
   "cell_type": "code",
   "execution_count": 13,
   "id": "studied-bridge",
   "metadata": {},
   "outputs": [],
   "source": [
    "after_data4.drop_duplicates(['REG_DTIME'], keep='first',inplace = True)\n",
    "after_data5.drop_duplicates(['REG_DTIME'], keep='first',inplace = True)"
   ]
  },
  {
   "cell_type": "code",
   "execution_count": 14,
   "id": "fatal-consideration",
   "metadata": {},
   "outputs": [
    {
     "name": "stdout",
     "output_type": "stream",
     "text": [
      "[]\n",
      "[]\n"
     ]
    }
   ],
   "source": [
    "print(np.ravel(np.where(after_data4.duplicated(['REG_DTIME']) == True)))\n",
    "print(np.ravel(np.where(after_data5.duplicated(['REG_DTIME']) == True)))"
   ]
  },
  {
   "cell_type": "code",
   "execution_count": 15,
   "id": "southern-treasurer",
   "metadata": {},
   "outputs": [],
   "source": [
    "after_data4 = after_data4.fillna(0)\n",
    "after_data5 = after_data5.fillna(0)"
   ]
  },
  {
   "cell_type": "markdown",
   "id": "working-cattle",
   "metadata": {},
   "source": [
    "### Test :  4월 11일~ 4월 30일(화재 : 12, 17, 24일), Train : 5월 1일 ~ 6월 5일, Valid : 4월 4일 ~ 4월 10일"
   ]
  },
  {
   "cell_type": "code",
   "execution_count": 41,
   "id": "tested-basics",
   "metadata": {},
   "outputs": [],
   "source": [
    "trunc_data4 = after_data4.truncate(after ='2021-04-30 23:59:59')"
   ]
  },
  {
   "cell_type": "code",
   "execution_count": 42,
   "id": "major-consultation",
   "metadata": {},
   "outputs": [],
   "source": [
    "trunc_data5 = after_data5.truncate(after ='2021-04-30 23:59:59')"
   ]
  },
  {
   "cell_type": "code",
   "execution_count": 43,
   "id": "impossible-prior",
   "metadata": {},
   "outputs": [],
   "source": [
    "test_data5 = trunc_data5.truncate(before ='2021-04-11 00:00:00')"
   ]
  },
  {
   "cell_type": "code",
   "execution_count": 44,
   "id": "directed-boost",
   "metadata": {},
   "outputs": [],
   "source": [
    "test_data4 = trunc_data4.truncate(before ='2021-04-11 00:00:00')"
   ]
  },
  {
   "cell_type": "code",
   "execution_count": 45,
   "id": "funky-tiger",
   "metadata": {},
   "outputs": [],
   "source": [
    "valid_data5 = trunc_data5.truncate(after ='2021-04-11 00:00:00')"
   ]
  },
  {
   "cell_type": "code",
   "execution_count": 46,
   "id": "breathing-insertion",
   "metadata": {},
   "outputs": [],
   "source": [
    "valid_data4 = trunc_data4.truncate(after ='2021-04-11 00:00:00')"
   ]
  },
  {
   "cell_type": "code",
   "execution_count": 50,
   "id": "offensive-economy",
   "metadata": {},
   "outputs": [],
   "source": [
    "train_data5 = after_data5.truncate(before ='2021-04-30 23:59:59')"
   ]
  },
  {
   "cell_type": "code",
   "execution_count": 51,
   "id": "following-flooring",
   "metadata": {},
   "outputs": [],
   "source": [
    "train_data4 = after_data4.truncate(before ='2021-04-30 23:59:59')"
   ]
  },
  {
   "cell_type": "markdown",
   "id": "absent-episode",
   "metadata": {},
   "source": [
    "### minmax scaling"
   ]
  },
  {
   "cell_type": "raw",
   "id": "engaging-patio",
   "metadata": {},
   "source": [
    "def minmax_scaling(train_df, test_df):\n",
    "    col = train_df.columns\n",
    "    for i in range(len(col)):\n",
    "        min_value = min(train_df[col[i]])\n",
    "        max_value = max(train_df[col[i]])\n",
    "        train_df.iloc[:,i] = (train_df.iloc[:,i] - min_value)/(max_value - min_value)\n",
    "        test_df.iloc[:,i] = (test_df.iloc[:,i] - min_value)/(max_value - min_value)\n",
    "        \n",
    "    return train_df, test_df"
   ]
  },
  {
   "cell_type": "raw",
   "id": "northern-serum",
   "metadata": {},
   "source": [
    "train_data4.iloc[:,:3],test_data4.iloc[:,:3] = minmax_scaling(train_data4.iloc[:,:3],test_data4.iloc[:,:3])\n",
    "train_data5.iloc[:,:4],test_data5.iloc[:,:4] = minmax_scaling(train_data5.iloc[:,:4],test_data5.iloc[:,:4])"
   ]
  },
  {
   "cell_type": "markdown",
   "id": "literary-caribbean",
   "metadata": {},
   "source": [
    "### 저장"
   ]
  },
  {
   "cell_type": "code",
   "execution_count": 52,
   "id": "strategic-magnitude",
   "metadata": {},
   "outputs": [],
   "source": [
    "train_data4.to_csv('./final_data_0927/device4_train.csv')\n",
    "valid_data4.to_csv('./final_data_0927/device4_valid.csv')\n",
    "test_data4.to_csv('./final_data_0927/device4_test.csv')\n",
    "train_data5.to_csv('./final_data_0927/device5_train.csv')\n",
    "valid_data5.to_csv('./final_data_0927/device5_valid.csv')\n",
    "test_data5.to_csv('./final_data_0927/device5_test.csv')"
   ]
  },
  {
   "cell_type": "code",
   "execution_count": null,
   "id": "divided-aging",
   "metadata": {},
   "outputs": [],
   "source": []
  },
  {
   "cell_type": "code",
   "execution_count": 56,
   "id": "legislative-integrity",
   "metadata": {},
   "outputs": [],
   "source": [
    "train_data4['count'] = 1"
   ]
  },
  {
   "cell_type": "code",
   "execution_count": 59,
   "id": "south-sunrise",
   "metadata": {},
   "outputs": [
    {
     "data": {
      "text/plain": [
       "<pandas.core.resample.DatetimeIndexResampler object at 0x7f28effe6ca0>"
      ]
     },
     "execution_count": 59,
     "metadata": {},
     "output_type": "execute_result"
    }
   ],
   "source": [
    "train_data4['count'].resample('D')"
   ]
  },
  {
   "cell_type": "code",
   "execution_count": 69,
   "id": "smoking-sociology",
   "metadata": {},
   "outputs": [
    {
     "data": {
      "text/html": [
       "<div>\n",
       "<style scoped>\n",
       "    .dataframe tbody tr th:only-of-type {\n",
       "        vertical-align: middle;\n",
       "    }\n",
       "\n",
       "    .dataframe tbody tr th {\n",
       "        vertical-align: top;\n",
       "    }\n",
       "\n",
       "    .dataframe thead th {\n",
       "        text-align: right;\n",
       "    }\n",
       "</style>\n",
       "<table border=\"1\" class=\"dataframe\">\n",
       "  <thead>\n",
       "    <tr style=\"text-align: right;\">\n",
       "      <th></th>\n",
       "      <th>TEMP</th>\n",
       "      <th>HUMIDITY</th>\n",
       "      <th>SMOKE_DEN</th>\n",
       "      <th>REG_DTIME</th>\n",
       "      <th>count</th>\n",
       "    </tr>\n",
       "    <tr>\n",
       "      <th>REG_DTIME</th>\n",
       "      <th></th>\n",
       "      <th></th>\n",
       "      <th></th>\n",
       "      <th></th>\n",
       "      <th></th>\n",
       "    </tr>\n",
       "  </thead>\n",
       "  <tbody>\n",
       "    <tr>\n",
       "      <th>2021-05-01 00:10:00</th>\n",
       "      <td>12.0</td>\n",
       "      <td>52.0</td>\n",
       "      <td>2037.0</td>\n",
       "      <td>2021-05-01 00:10:29</td>\n",
       "      <td>1.0</td>\n",
       "    </tr>\n",
       "    <tr>\n",
       "      <th>2021-05-01 00:11:00</th>\n",
       "      <td>12.0</td>\n",
       "      <td>52.0</td>\n",
       "      <td>2035.0</td>\n",
       "      <td>2021-05-01 00:11:09</td>\n",
       "      <td>1.0</td>\n",
       "    </tr>\n",
       "    <tr>\n",
       "      <th>2021-05-01 00:12:00</th>\n",
       "      <td>12.0</td>\n",
       "      <td>52.0</td>\n",
       "      <td>2036.0</td>\n",
       "      <td>2021-05-01 00:12:59</td>\n",
       "      <td>1.0</td>\n",
       "    </tr>\n",
       "    <tr>\n",
       "      <th>2021-05-01 00:13:00</th>\n",
       "      <td>12.0</td>\n",
       "      <td>52.0</td>\n",
       "      <td>2036.0</td>\n",
       "      <td>2021-05-01 00:13:29</td>\n",
       "      <td>1.0</td>\n",
       "    </tr>\n",
       "    <tr>\n",
       "      <th>2021-05-01 00:14:00</th>\n",
       "      <td>NaN</td>\n",
       "      <td>NaN</td>\n",
       "      <td>NaN</td>\n",
       "      <td>None</td>\n",
       "      <td>NaN</td>\n",
       "    </tr>\n",
       "    <tr>\n",
       "      <th>2021-05-01 00:15:00</th>\n",
       "      <td>12.0</td>\n",
       "      <td>52.0</td>\n",
       "      <td>2035.0</td>\n",
       "      <td>2021-05-01 00:15:39</td>\n",
       "      <td>1.0</td>\n",
       "    </tr>\n",
       "    <tr>\n",
       "      <th>2021-05-01 00:16:00</th>\n",
       "      <td>12.0</td>\n",
       "      <td>52.0</td>\n",
       "      <td>2036.0</td>\n",
       "      <td>2021-05-01 00:16:00</td>\n",
       "      <td>1.0</td>\n",
       "    </tr>\n",
       "    <tr>\n",
       "      <th>2021-05-01 00:17:00</th>\n",
       "      <td>NaN</td>\n",
       "      <td>NaN</td>\n",
       "      <td>NaN</td>\n",
       "      <td>None</td>\n",
       "      <td>NaN</td>\n",
       "    </tr>\n",
       "    <tr>\n",
       "      <th>2021-05-01 00:18:00</th>\n",
       "      <td>12.0</td>\n",
       "      <td>52.0</td>\n",
       "      <td>2038.0</td>\n",
       "      <td>2021-05-01 00:18:19</td>\n",
       "      <td>1.0</td>\n",
       "    </tr>\n",
       "    <tr>\n",
       "      <th>2021-05-01 00:19:00</th>\n",
       "      <td>12.0</td>\n",
       "      <td>52.0</td>\n",
       "      <td>2037.0</td>\n",
       "      <td>2021-05-01 00:19:10</td>\n",
       "      <td>1.0</td>\n",
       "    </tr>\n",
       "  </tbody>\n",
       "</table>\n",
       "</div>"
      ],
      "text/plain": [
       "                     TEMP  HUMIDITY  SMOKE_DEN            REG_DTIME  count\n",
       "REG_DTIME                                                                 \n",
       "2021-05-01 00:10:00  12.0      52.0     2037.0  2021-05-01 00:10:29    1.0\n",
       "2021-05-01 00:11:00  12.0      52.0     2035.0  2021-05-01 00:11:09    1.0\n",
       "2021-05-01 00:12:00  12.0      52.0     2036.0  2021-05-01 00:12:59    1.0\n",
       "2021-05-01 00:13:00  12.0      52.0     2036.0  2021-05-01 00:13:29    1.0\n",
       "2021-05-01 00:14:00   NaN       NaN        NaN                 None    NaN\n",
       "2021-05-01 00:15:00  12.0      52.0     2035.0  2021-05-01 00:15:39    1.0\n",
       "2021-05-01 00:16:00  12.0      52.0     2036.0  2021-05-01 00:16:00    1.0\n",
       "2021-05-01 00:17:00   NaN       NaN        NaN                 None    NaN\n",
       "2021-05-01 00:18:00  12.0      52.0     2038.0  2021-05-01 00:18:19    1.0\n",
       "2021-05-01 00:19:00  12.0      52.0     2037.0  2021-05-01 00:19:10    1.0"
      ]
     },
     "execution_count": 69,
     "metadata": {},
     "output_type": "execute_result"
    }
   ],
   "source": [
    "train_data4.resample('1T').first()[10:20]"
   ]
  },
  {
   "cell_type": "code",
   "execution_count": 68,
   "id": "amateur-envelope",
   "metadata": {},
   "outputs": [
    {
     "data": {
      "text/html": [
       "<div>\n",
       "<style scoped>\n",
       "    .dataframe tbody tr th:only-of-type {\n",
       "        vertical-align: middle;\n",
       "    }\n",
       "\n",
       "    .dataframe tbody tr th {\n",
       "        vertical-align: top;\n",
       "    }\n",
       "\n",
       "    .dataframe thead th {\n",
       "        text-align: right;\n",
       "    }\n",
       "</style>\n",
       "<table border=\"1\" class=\"dataframe\">\n",
       "  <thead>\n",
       "    <tr style=\"text-align: right;\">\n",
       "      <th></th>\n",
       "      <th>TEMP</th>\n",
       "      <th>HUMIDITY</th>\n",
       "      <th>SMELL_DEN</th>\n",
       "      <th>DEN</th>\n",
       "      <th>REG_DTIME</th>\n",
       "    </tr>\n",
       "    <tr>\n",
       "      <th>REG_DTIME</th>\n",
       "      <th></th>\n",
       "      <th></th>\n",
       "      <th></th>\n",
       "      <th></th>\n",
       "      <th></th>\n",
       "    </tr>\n",
       "  </thead>\n",
       "  <tbody>\n",
       "    <tr>\n",
       "      <th>2021-05-01 00:01:46</th>\n",
       "      <td>17.0</td>\n",
       "      <td>35.0</td>\n",
       "      <td>523.0</td>\n",
       "      <td>159.0</td>\n",
       "      <td>2021-05-01 00:01:46</td>\n",
       "    </tr>\n",
       "    <tr>\n",
       "      <th>2021-05-01 00:02:07</th>\n",
       "      <td>17.0</td>\n",
       "      <td>35.0</td>\n",
       "      <td>516.0</td>\n",
       "      <td>159.0</td>\n",
       "      <td>2021-05-01 00:02:07</td>\n",
       "    </tr>\n",
       "    <tr>\n",
       "      <th>2021-05-01 00:02:16</th>\n",
       "      <td>17.0</td>\n",
       "      <td>35.0</td>\n",
       "      <td>509.0</td>\n",
       "      <td>159.0</td>\n",
       "      <td>2021-05-01 00:02:16</td>\n",
       "    </tr>\n",
       "    <tr>\n",
       "      <th>2021-05-01 00:02:26</th>\n",
       "      <td>17.0</td>\n",
       "      <td>36.0</td>\n",
       "      <td>509.0</td>\n",
       "      <td>159.0</td>\n",
       "      <td>2021-05-01 00:02:26</td>\n",
       "    </tr>\n",
       "    <tr>\n",
       "      <th>2021-05-01 00:02:36</th>\n",
       "      <td>17.0</td>\n",
       "      <td>36.0</td>\n",
       "      <td>509.0</td>\n",
       "      <td>158.0</td>\n",
       "      <td>2021-05-01 00:02:36</td>\n",
       "    </tr>\n",
       "    <tr>\n",
       "      <th>2021-05-01 00:02:46</th>\n",
       "      <td>17.0</td>\n",
       "      <td>36.0</td>\n",
       "      <td>516.0</td>\n",
       "      <td>159.0</td>\n",
       "      <td>2021-05-01 00:02:46</td>\n",
       "    </tr>\n",
       "    <tr>\n",
       "      <th>2021-05-01 00:02:56</th>\n",
       "      <td>17.0</td>\n",
       "      <td>36.0</td>\n",
       "      <td>509.0</td>\n",
       "      <td>158.0</td>\n",
       "      <td>2021-05-01 00:02:56</td>\n",
       "    </tr>\n",
       "    <tr>\n",
       "      <th>2021-05-01 00:03:06</th>\n",
       "      <td>17.0</td>\n",
       "      <td>36.0</td>\n",
       "      <td>509.0</td>\n",
       "      <td>159.0</td>\n",
       "      <td>2021-05-01 00:03:06</td>\n",
       "    </tr>\n",
       "    <tr>\n",
       "      <th>2021-05-01 00:03:16</th>\n",
       "      <td>17.0</td>\n",
       "      <td>36.0</td>\n",
       "      <td>509.0</td>\n",
       "      <td>158.0</td>\n",
       "      <td>2021-05-01 00:03:16</td>\n",
       "    </tr>\n",
       "    <tr>\n",
       "      <th>2021-05-01 00:03:37</th>\n",
       "      <td>17.0</td>\n",
       "      <td>36.0</td>\n",
       "      <td>509.0</td>\n",
       "      <td>159.0</td>\n",
       "      <td>2021-05-01 00:03:37</td>\n",
       "    </tr>\n",
       "  </tbody>\n",
       "</table>\n",
       "</div>"
      ],
      "text/plain": [
       "                     TEMP  HUMIDITY  SMELL_DEN    DEN            REG_DTIME\n",
       "REG_DTIME                                                                 \n",
       "2021-05-01 00:01:46  17.0      35.0      523.0  159.0  2021-05-01 00:01:46\n",
       "2021-05-01 00:02:07  17.0      35.0      516.0  159.0  2021-05-01 00:02:07\n",
       "2021-05-01 00:02:16  17.0      35.0      509.0  159.0  2021-05-01 00:02:16\n",
       "2021-05-01 00:02:26  17.0      36.0      509.0  159.0  2021-05-01 00:02:26\n",
       "2021-05-01 00:02:36  17.0      36.0      509.0  158.0  2021-05-01 00:02:36\n",
       "2021-05-01 00:02:46  17.0      36.0      516.0  159.0  2021-05-01 00:02:46\n",
       "2021-05-01 00:02:56  17.0      36.0      509.0  158.0  2021-05-01 00:02:56\n",
       "2021-05-01 00:03:06  17.0      36.0      509.0  159.0  2021-05-01 00:03:06\n",
       "2021-05-01 00:03:16  17.0      36.0      509.0  158.0  2021-05-01 00:03:16\n",
       "2021-05-01 00:03:37  17.0      36.0      509.0  159.0  2021-05-01 00:03:37"
      ]
     },
     "execution_count": 68,
     "metadata": {},
     "output_type": "execute_result"
    }
   ],
   "source": [
    "train_data5[10:20]"
   ]
  },
  {
   "cell_type": "code",
   "execution_count": 72,
   "id": "useful-cabin",
   "metadata": {},
   "outputs": [
    {
     "data": {
      "text/html": [
       "<div>\n",
       "<style scoped>\n",
       "    .dataframe tbody tr th:only-of-type {\n",
       "        vertical-align: middle;\n",
       "    }\n",
       "\n",
       "    .dataframe tbody tr th {\n",
       "        vertical-align: top;\n",
       "    }\n",
       "\n",
       "    .dataframe thead th {\n",
       "        text-align: right;\n",
       "    }\n",
       "</style>\n",
       "<table border=\"1\" class=\"dataframe\">\n",
       "  <thead>\n",
       "    <tr style=\"text-align: right;\">\n",
       "      <th></th>\n",
       "      <th>TEMP</th>\n",
       "      <th>HUMIDITY</th>\n",
       "      <th>SMOKE_DEN</th>\n",
       "      <th>REG_DTIME</th>\n",
       "    </tr>\n",
       "    <tr>\n",
       "      <th>REG_DTIME</th>\n",
       "      <th></th>\n",
       "      <th></th>\n",
       "      <th></th>\n",
       "      <th></th>\n",
       "    </tr>\n",
       "  </thead>\n",
       "  <tbody>\n",
       "    <tr>\n",
       "      <th>2021-04-11 00:00:34</th>\n",
       "      <td>10.0</td>\n",
       "      <td>63.0</td>\n",
       "      <td>2036.0</td>\n",
       "      <td>2021-04-11 00:00:34</td>\n",
       "    </tr>\n",
       "    <tr>\n",
       "      <th>2021-04-11 00:02:35</th>\n",
       "      <td>10.0</td>\n",
       "      <td>63.0</td>\n",
       "      <td>2034.0</td>\n",
       "      <td>2021-04-11 00:02:35</td>\n",
       "    </tr>\n",
       "    <tr>\n",
       "      <th>2021-04-11 00:02:44</th>\n",
       "      <td>10.0</td>\n",
       "      <td>63.0</td>\n",
       "      <td>2037.0</td>\n",
       "      <td>2021-04-11 00:02:44</td>\n",
       "    </tr>\n",
       "    <tr>\n",
       "      <th>2021-04-11 00:03:04</th>\n",
       "      <td>10.0</td>\n",
       "      <td>63.0</td>\n",
       "      <td>2036.0</td>\n",
       "      <td>2021-04-11 00:03:04</td>\n",
       "    </tr>\n",
       "    <tr>\n",
       "      <th>2021-04-11 00:03:14</th>\n",
       "      <td>10.0</td>\n",
       "      <td>64.0</td>\n",
       "      <td>2036.0</td>\n",
       "      <td>2021-04-11 00:03:14</td>\n",
       "    </tr>\n",
       "    <tr>\n",
       "      <th>...</th>\n",
       "      <td>...</td>\n",
       "      <td>...</td>\n",
       "      <td>...</td>\n",
       "      <td>...</td>\n",
       "    </tr>\n",
       "    <tr>\n",
       "      <th>2021-04-30 23:58:29</th>\n",
       "      <td>12.0</td>\n",
       "      <td>51.0</td>\n",
       "      <td>2033.0</td>\n",
       "      <td>2021-04-30 23:58:29</td>\n",
       "    </tr>\n",
       "    <tr>\n",
       "      <th>2021-04-30 23:58:49</th>\n",
       "      <td>12.0</td>\n",
       "      <td>52.0</td>\n",
       "      <td>2033.0</td>\n",
       "      <td>2021-04-30 23:58:49</td>\n",
       "    </tr>\n",
       "    <tr>\n",
       "      <th>2021-04-30 23:58:59</th>\n",
       "      <td>12.0</td>\n",
       "      <td>51.0</td>\n",
       "      <td>2037.0</td>\n",
       "      <td>2021-04-30 23:58:59</td>\n",
       "    </tr>\n",
       "    <tr>\n",
       "      <th>2021-04-30 23:59:09</th>\n",
       "      <td>12.0</td>\n",
       "      <td>51.0</td>\n",
       "      <td>2037.0</td>\n",
       "      <td>2021-04-30 23:59:09</td>\n",
       "    </tr>\n",
       "    <tr>\n",
       "      <th>2021-04-30 23:59:19</th>\n",
       "      <td>12.0</td>\n",
       "      <td>51.0</td>\n",
       "      <td>2035.0</td>\n",
       "      <td>2021-04-30 23:59:19</td>\n",
       "    </tr>\n",
       "  </tbody>\n",
       "</table>\n",
       "<p>72416 rows × 4 columns</p>\n",
       "</div>"
      ],
      "text/plain": [
       "                     TEMP  HUMIDITY  SMOKE_DEN            REG_DTIME\n",
       "REG_DTIME                                                          \n",
       "2021-04-11 00:00:34  10.0      63.0     2036.0  2021-04-11 00:00:34\n",
       "2021-04-11 00:02:35  10.0      63.0     2034.0  2021-04-11 00:02:35\n",
       "2021-04-11 00:02:44  10.0      63.0     2037.0  2021-04-11 00:02:44\n",
       "2021-04-11 00:03:04  10.0      63.0     2036.0  2021-04-11 00:03:04\n",
       "2021-04-11 00:03:14  10.0      64.0     2036.0  2021-04-11 00:03:14\n",
       "...                   ...       ...        ...                  ...\n",
       "2021-04-30 23:58:29  12.0      51.0     2033.0  2021-04-30 23:58:29\n",
       "2021-04-30 23:58:49  12.0      52.0     2033.0  2021-04-30 23:58:49\n",
       "2021-04-30 23:58:59  12.0      51.0     2037.0  2021-04-30 23:58:59\n",
       "2021-04-30 23:59:09  12.0      51.0     2037.0  2021-04-30 23:59:09\n",
       "2021-04-30 23:59:19  12.0      51.0     2035.0  2021-04-30 23:59:19\n",
       "\n",
       "[72416 rows x 4 columns]"
      ]
     },
     "execution_count": 72,
     "metadata": {},
     "output_type": "execute_result"
    }
   ],
   "source": [
    "test_data4"
   ]
  },
  {
   "cell_type": "code",
   "execution_count": 74,
   "id": "congressional-array",
   "metadata": {},
   "outputs": [],
   "source": [
    "from matplotlib import pyplot as plt\n",
    "from matplotlib import dates"
   ]
  },
  {
   "cell_type": "code",
   "execution_count": 135,
   "id": "graduate-capacity",
   "metadata": {},
   "outputs": [
    {
     "data": {
      "image/png": "[encoded data removed]",
      "text/plain": [
       "<Figure size 1440x576 with 1 Axes>"
      ]
     },
     "metadata": {
      "needs_background": "light"
     },
     "output_type": "display_data"
    }
   ],
   "source": [
    "plt.figure(figsize = (20,8))\n",
    "plt.plot_date(test_data5.index.values[35000:40000], test_data5[['DEN']][35000:40000], fmt = '-')\n",
    "plt.gca().xaxis.set_major_locator(dates.HourLocator())\n",
    "plt.gca().xaxis.set_major_formatter(dates.DateFormatter('%m-%d-%H-%M'))\n",
    "plt.setp(plt.gca().xaxis.get_majorticklabels(),'rotation', 90)\n",
    "plt.axvline(pd.Timestamp('2021-04-24 15:00:00'),color='black')\n",
    "plt.axvline(pd.Timestamp('2021-04-24 15:20:00'),color='black')\n",
    "plt.axvline(pd.Timestamp('2021-04-24 15:50:00'),color='black')\n",
    "plt.axvline(pd.Timestamp('2021-04-24 16:30:00'),color='black')\n",
    "plt.axvline(pd.Timestamp('2021-04-24 17:05:00'),color='black')\n",
    "plt.axvline(pd.Timestamp('2021-04-24 15:00:00'),color='red')\n",
    "plt.axvline(pd.Timestamp('2021-04-24 17:50:00'),color='red')\n",
    "plt.grid()\n",
    "plt.legend(['DEN'])#,'HUMIDITY','SMOKE_DEN'])\n",
    "plt.show()"
   ]
  },
  {
   "cell_type": "code",
   "execution_count": 175,
   "id": "pediatric-criminal",
   "metadata": {},
   "outputs": [],
   "source": [
    "test_data4 = pd.read_csv('./final_data_0927/container/device4_test.csv',index_col = 0)"
   ]
  },
  {
   "cell_type": "code",
   "execution_count": 164,
   "id": "mineral-asbestos",
   "metadata": {},
   "outputs": [],
   "source": [
    "test_data4.index = pd.to_datetime(test_data4.index)"
   ]
  },
  {
   "cell_type": "code",
   "execution_count": 167,
   "id": "immediate-wholesale",
   "metadata": {},
   "outputs": [
    {
     "data": {
      "text/html": [
       "<div>\n",
       "<style scoped>\n",
       "    .dataframe tbody tr th:only-of-type {\n",
       "        vertical-align: middle;\n",
       "    }\n",
       "\n",
       "    .dataframe tbody tr th {\n",
       "        vertical-align: top;\n",
       "    }\n",
       "\n",
       "    .dataframe thead th {\n",
       "        text-align: right;\n",
       "    }\n",
       "</style>\n",
       "<table border=\"1\" class=\"dataframe\">\n",
       "  <thead>\n",
       "    <tr style=\"text-align: right;\">\n",
       "      <th></th>\n",
       "      <th>TEMP</th>\n",
       "      <th>HUMIDITY</th>\n",
       "      <th>SMOKE_DEN</th>\n",
       "      <th>REG_DTIME.1</th>\n",
       "    </tr>\n",
       "    <tr>\n",
       "      <th>REG_DTIME</th>\n",
       "      <th></th>\n",
       "      <th></th>\n",
       "      <th></th>\n",
       "      <th></th>\n",
       "    </tr>\n",
       "  </thead>\n",
       "  <tbody>\n",
       "    <tr>\n",
       "      <th>2021-04-11 00:00:34</th>\n",
       "      <td>10.0</td>\n",
       "      <td>63.0</td>\n",
       "      <td>2036.0</td>\n",
       "      <td>2021-04-11 00:00:34</td>\n",
       "    </tr>\n",
       "    <tr>\n",
       "      <th>2021-04-11 00:02:35</th>\n",
       "      <td>10.0</td>\n",
       "      <td>63.0</td>\n",
       "      <td>2034.0</td>\n",
       "      <td>2021-04-11 00:02:35</td>\n",
       "    </tr>\n",
       "    <tr>\n",
       "      <th>2021-04-11 00:02:44</th>\n",
       "      <td>10.0</td>\n",
       "      <td>63.0</td>\n",
       "      <td>2037.0</td>\n",
       "      <td>2021-04-11 00:02:44</td>\n",
       "    </tr>\n",
       "    <tr>\n",
       "      <th>2021-04-11 00:03:04</th>\n",
       "      <td>10.0</td>\n",
       "      <td>63.0</td>\n",
       "      <td>2036.0</td>\n",
       "      <td>2021-04-11 00:03:04</td>\n",
       "    </tr>\n",
       "    <tr>\n",
       "      <th>2021-04-11 00:03:14</th>\n",
       "      <td>10.0</td>\n",
       "      <td>64.0</td>\n",
       "      <td>2036.0</td>\n",
       "      <td>2021-04-11 00:03:14</td>\n",
       "    </tr>\n",
       "    <tr>\n",
       "      <th>...</th>\n",
       "      <td>...</td>\n",
       "      <td>...</td>\n",
       "      <td>...</td>\n",
       "      <td>...</td>\n",
       "    </tr>\n",
       "    <tr>\n",
       "      <th>2021-04-30 23:58:29</th>\n",
       "      <td>12.0</td>\n",
       "      <td>51.0</td>\n",
       "      <td>2033.0</td>\n",
       "      <td>2021-04-30 23:58:29</td>\n",
       "    </tr>\n",
       "    <tr>\n",
       "      <th>2021-04-30 23:58:49</th>\n",
       "      <td>12.0</td>\n",
       "      <td>52.0</td>\n",
       "      <td>2033.0</td>\n",
       "      <td>2021-04-30 23:58:49</td>\n",
       "    </tr>\n",
       "    <tr>\n",
       "      <th>2021-04-30 23:58:59</th>\n",
       "      <td>12.0</td>\n",
       "      <td>51.0</td>\n",
       "      <td>2037.0</td>\n",
       "      <td>2021-04-30 23:58:59</td>\n",
       "    </tr>\n",
       "    <tr>\n",
       "      <th>2021-04-30 23:59:09</th>\n",
       "      <td>12.0</td>\n",
       "      <td>51.0</td>\n",
       "      <td>2037.0</td>\n",
       "      <td>2021-04-30 23:59:09</td>\n",
       "    </tr>\n",
       "    <tr>\n",
       "      <th>2021-04-30 23:59:19</th>\n",
       "      <td>12.0</td>\n",
       "      <td>51.0</td>\n",
       "      <td>2035.0</td>\n",
       "      <td>2021-04-30 23:59:19</td>\n",
       "    </tr>\n",
       "  </tbody>\n",
       "</table>\n",
       "<p>72416 rows × 4 columns</p>\n",
       "</div>"
      ],
      "text/plain": [
       "                     TEMP  HUMIDITY  SMOKE_DEN          REG_DTIME.1\n",
       "REG_DTIME                                                          \n",
       "2021-04-11 00:00:34  10.0      63.0     2036.0  2021-04-11 00:00:34\n",
       "2021-04-11 00:02:35  10.0      63.0     2034.0  2021-04-11 00:02:35\n",
       "2021-04-11 00:02:44  10.0      63.0     2037.0  2021-04-11 00:02:44\n",
       "2021-04-11 00:03:04  10.0      63.0     2036.0  2021-04-11 00:03:04\n",
       "2021-04-11 00:03:14  10.0      64.0     2036.0  2021-04-11 00:03:14\n",
       "...                   ...       ...        ...                  ...\n",
       "2021-04-30 23:58:29  12.0      51.0     2033.0  2021-04-30 23:58:29\n",
       "2021-04-30 23:58:49  12.0      52.0     2033.0  2021-04-30 23:58:49\n",
       "2021-04-30 23:58:59  12.0      51.0     2037.0  2021-04-30 23:58:59\n",
       "2021-04-30 23:59:09  12.0      51.0     2037.0  2021-04-30 23:59:09\n",
       "2021-04-30 23:59:19  12.0      51.0     2035.0  2021-04-30 23:59:19\n",
       "\n",
       "[72416 rows x 4 columns]"
      ]
     },
     "execution_count": 167,
     "metadata": {},
     "output_type": "execute_result"
    }
   ],
   "source": [
    "test_data4"
   ]
  },
  {
   "cell_type": "code",
   "execution_count": 172,
   "id": "civilian-crossing",
   "metadata": {},
   "outputs": [
    {
     "name": "stderr",
     "output_type": "stream",
     "text": [
      "<ipython-input-172-46be7703977e>:4: SettingWithCopyWarning: \n",
      "A value is trying to be set on a copy of a slice from a DataFrame\n",
      "\n",
      "See the caveats in the documentation: https://pandas.pydata.org/pandas-docs/stable/user_guide/indexing.html#returning-a-view-versus-a-copy\n",
      "  test_data4['label'][sub.index] = 1\n",
      "/home/sigkdd2021/miniconda3/lib/python3.8/site-packages/pandas/core/indexing.py:1637: SettingWithCopyWarning: \n",
      "A value is trying to be set on a copy of a slice from a DataFrame\n",
      "\n",
      "See the caveats in the documentation: https://pandas.pydata.org/pandas-docs/stable/user_guide/indexing.html#returning-a-view-versus-a-copy\n",
      "  self._setitem_single_block(indexer, value, name)\n"
     ]
    },
    {
     "data": {
      "text/html": [
       "<div>\n",
       "<style scoped>\n",
       "    .dataframe tbody tr th:only-of-type {\n",
       "        vertical-align: middle;\n",
       "    }\n",
       "\n",
       "    .dataframe tbody tr th {\n",
       "        vertical-align: top;\n",
       "    }\n",
       "\n",
       "    .dataframe thead th {\n",
       "        text-align: right;\n",
       "    }\n",
       "</style>\n",
       "<table border=\"1\" class=\"dataframe\">\n",
       "  <thead>\n",
       "    <tr style=\"text-align: right;\">\n",
       "      <th></th>\n",
       "      <th>TEMP</th>\n",
       "      <th>HUMIDITY</th>\n",
       "      <th>SMOKE_DEN</th>\n",
       "      <th>REG_DTIME.1</th>\n",
       "      <th>label</th>\n",
       "    </tr>\n",
       "    <tr>\n",
       "      <th>REG_DTIME</th>\n",
       "      <th></th>\n",
       "      <th></th>\n",
       "      <th></th>\n",
       "      <th></th>\n",
       "      <th></th>\n",
       "    </tr>\n",
       "  </thead>\n",
       "  <tbody>\n",
       "    <tr>\n",
       "      <th>2021-04-11 00:00:34</th>\n",
       "      <td>10.0</td>\n",
       "      <td>63.0</td>\n",
       "      <td>2036.0</td>\n",
       "      <td>2021-04-11 00:00:34</td>\n",
       "      <td>0</td>\n",
       "    </tr>\n",
       "    <tr>\n",
       "      <th>2021-04-11 00:02:35</th>\n",
       "      <td>10.0</td>\n",
       "      <td>63.0</td>\n",
       "      <td>2034.0</td>\n",
       "      <td>2021-04-11 00:02:35</td>\n",
       "      <td>0</td>\n",
       "    </tr>\n",
       "    <tr>\n",
       "      <th>2021-04-11 00:02:44</th>\n",
       "      <td>10.0</td>\n",
       "      <td>63.0</td>\n",
       "      <td>2037.0</td>\n",
       "      <td>2021-04-11 00:02:44</td>\n",
       "      <td>0</td>\n",
       "    </tr>\n",
       "    <tr>\n",
       "      <th>2021-04-11 00:03:04</th>\n",
       "      <td>10.0</td>\n",
       "      <td>63.0</td>\n",
       "      <td>2036.0</td>\n",
       "      <td>2021-04-11 00:03:04</td>\n",
       "      <td>0</td>\n",
       "    </tr>\n",
       "    <tr>\n",
       "      <th>2021-04-11 00:03:14</th>\n",
       "      <td>10.0</td>\n",
       "      <td>64.0</td>\n",
       "      <td>2036.0</td>\n",
       "      <td>2021-04-11 00:03:14</td>\n",
       "      <td>0</td>\n",
       "    </tr>\n",
       "    <tr>\n",
       "      <th>...</th>\n",
       "      <td>...</td>\n",
       "      <td>...</td>\n",
       "      <td>...</td>\n",
       "      <td>...</td>\n",
       "      <td>...</td>\n",
       "    </tr>\n",
       "    <tr>\n",
       "      <th>2021-04-30 23:58:29</th>\n",
       "      <td>12.0</td>\n",
       "      <td>51.0</td>\n",
       "      <td>2033.0</td>\n",
       "      <td>2021-04-30 23:58:29</td>\n",
       "      <td>0</td>\n",
       "    </tr>\n",
       "    <tr>\n",
       "      <th>2021-04-30 23:58:49</th>\n",
       "      <td>12.0</td>\n",
       "      <td>52.0</td>\n",
       "      <td>2033.0</td>\n",
       "      <td>2021-04-30 23:58:49</td>\n",
       "      <td>0</td>\n",
       "    </tr>\n",
       "    <tr>\n",
       "      <th>2021-04-30 23:58:59</th>\n",
       "      <td>12.0</td>\n",
       "      <td>51.0</td>\n",
       "      <td>2037.0</td>\n",
       "      <td>2021-04-30 23:58:59</td>\n",
       "      <td>0</td>\n",
       "    </tr>\n",
       "    <tr>\n",
       "      <th>2021-04-30 23:59:09</th>\n",
       "      <td>12.0</td>\n",
       "      <td>51.0</td>\n",
       "      <td>2037.0</td>\n",
       "      <td>2021-04-30 23:59:09</td>\n",
       "      <td>0</td>\n",
       "    </tr>\n",
       "    <tr>\n",
       "      <th>2021-04-30 23:59:19</th>\n",
       "      <td>12.0</td>\n",
       "      <td>51.0</td>\n",
       "      <td>2035.0</td>\n",
       "      <td>2021-04-30 23:59:19</td>\n",
       "      <td>0</td>\n",
       "    </tr>\n",
       "  </tbody>\n",
       "</table>\n",
       "<p>72416 rows × 5 columns</p>\n",
       "</div>"
      ],
      "text/plain": [
       "                     TEMP  HUMIDITY  SMOKE_DEN          REG_DTIME.1  label\n",
       "REG_DTIME                                                                 \n",
       "2021-04-11 00:00:34  10.0      63.0     2036.0  2021-04-11 00:00:34      0\n",
       "2021-04-11 00:02:35  10.0      63.0     2034.0  2021-04-11 00:02:35      0\n",
       "2021-04-11 00:02:44  10.0      63.0     2037.0  2021-04-11 00:02:44      0\n",
       "2021-04-11 00:03:04  10.0      63.0     2036.0  2021-04-11 00:03:04      0\n",
       "2021-04-11 00:03:14  10.0      64.0     2036.0  2021-04-11 00:03:14      0\n",
       "...                   ...       ...        ...                  ...    ...\n",
       "2021-04-30 23:58:29  12.0      51.0     2033.0  2021-04-30 23:58:29      0\n",
       "2021-04-30 23:58:49  12.0      52.0     2033.0  2021-04-30 23:58:49      0\n",
       "2021-04-30 23:58:59  12.0      51.0     2037.0  2021-04-30 23:58:59      0\n",
       "2021-04-30 23:59:09  12.0      51.0     2037.0  2021-04-30 23:59:09      0\n",
       "2021-04-30 23:59:19  12.0      51.0     2035.0  2021-04-30 23:59:19      0\n",
       "\n",
       "[72416 rows x 5 columns]"
      ]
     },
     "execution_count": 172,
     "metadata": {},
     "output_type": "execute_result"
    }
   ],
   "source": [
    "# test_data4['label'] = 0\n",
    "sub = test_data4[test_data4.index >= pd.Timestamp('2021-04-24 15:00:00')]\n",
    "sub = sub[sub.index <= pd.Timestamp('2021-04-24 17:50:00')]\n",
    "test_data4['label'][sub.index] = 1\n",
    "test_data4"
   ]
  },
  {
   "cell_type": "code",
   "execution_count": 173,
   "id": "regulated-techno",
   "metadata": {},
   "outputs": [
    {
     "data": {
      "text/plain": [
       "REG_DTIME\n",
       "2021-04-24 15:00:11    1\n",
       "2021-04-24 15:00:21    1\n",
       "2021-04-24 15:02:01    1\n",
       "2021-04-24 15:02:11    1\n",
       "2021-04-24 15:02:21    1\n",
       "                      ..\n",
       "2021-04-24 17:49:11    1\n",
       "2021-04-24 17:49:21    1\n",
       "2021-04-24 17:49:31    1\n",
       "2021-04-24 17:49:41    1\n",
       "2021-04-24 17:49:51    1\n",
       "Name: label, Length: 571, dtype: int64"
      ]
     },
     "execution_count": 173,
     "metadata": {},
     "output_type": "execute_result"
    }
   ],
   "source": [
    "test_data4['label'][sub.index]"
   ]
  },
  {
   "cell_type": "code",
   "execution_count": 174,
   "id": "spoken-binary",
   "metadata": {},
   "outputs": [],
   "source": [
    "test_data4.to_csv('./final_data_0927/container/device4_anomaly_test.csv')"
   ]
  },
  {
   "cell_type": "code",
   "execution_count": 182,
   "id": "meaning-criminal",
   "metadata": {},
   "outputs": [],
   "source": [
    "anomaly_4 = pd.read_csv('./final_data_0927/container/device4_anomaly_test.csv', index_col = 0)"
   ]
  },
  {
   "cell_type": "code",
   "execution_count": 183,
   "id": "rising-grounds",
   "metadata": {},
   "outputs": [
    {
     "data": {
      "text/plain": [
       "Index(['2021-04-11 00:00:34', '2021-04-11 00:02:35', '2021-04-11 00:02:44',\n",
       "       '2021-04-11 00:03:04', '2021-04-11 00:03:14', '2021-04-11 00:03:34',\n",
       "       '2021-04-11 00:03:44', '2021-04-11 00:04:04', '2021-04-11 00:05:04',\n",
       "       '2021-04-11 00:05:14',\n",
       "       ...\n",
       "       '2021-04-30 23:56:59', '2021-04-30 23:57:19', '2021-04-30 23:57:39',\n",
       "       '2021-04-30 23:57:59', '2021-04-30 23:58:09', '2021-04-30 23:58:29',\n",
       "       '2021-04-30 23:58:49', '2021-04-30 23:58:59', '2021-04-30 23:59:09',\n",
       "       '2021-04-30 23:59:19'],\n",
       "      dtype='object', name='REG_DTIME', length=72416)"
      ]
     },
     "execution_count": 183,
     "metadata": {},
     "output_type": "execute_result"
    }
   ],
   "source": [
    "test_data4.index"
   ]
  },
  {
   "cell_type": "code",
   "execution_count": null,
   "id": "junior-syntax",
   "metadata": {},
   "outputs": [],
   "source": []
  }
 ],
 "metadata": {
  "kernelspec": {
   "display_name": "Python 3",
   "language": "python",
   "name": "python3"
  },
  "language_info": {
   "codemirror_mode": {
    "name": "ipython",
    "version": 3
   },
   "file_extension": ".py",
   "mimetype": "text/x-python",
   "name": "python",
   "nbconvert_exporter": "python",
   "pygments_lexer": "ipython3",
   "version": "3.8.8"
  }
 },
 "nbformat": 4,
 "nbformat_minor": 5
}
